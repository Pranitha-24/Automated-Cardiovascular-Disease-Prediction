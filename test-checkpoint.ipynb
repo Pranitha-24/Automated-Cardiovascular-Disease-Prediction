{
 "cells": [
  {
   "cell_type": "code",
   "execution_count": 1,
   "metadata": {},
   "outputs": [],
   "source": [
    "import warnings\n",
    "warnings.filterwarnings('ignore')"
   ]
  },
  {
   "cell_type": "code",
   "execution_count": 2,
   "metadata": {},
   "outputs": [],
   "source": [
    "import numpy as np\n",
    "import pandas as pd\n",
    "\n",
    "import matplotlib.pyplot as plt\n",
    "import seaborn as sns"
   ]
  },
  {
   "cell_type": "code",
   "execution_count": 3,
   "metadata": {},
   "outputs": [],
   "source": [
    "from sklearn.model_selection import train_test_split\n",
    "from FS.hbo import jfs"
   ]
  },
  {
   "cell_type": "code",
   "execution_count": 4,
   "metadata": {},
   "outputs": [],
   "source": [
    "# load data\n",
    "data  = pd.read_csv('archive/heart_statlog_cleveland_hungary_final.csv')"
   ]
  },
  {
   "cell_type": "code",
   "execution_count": 5,
   "metadata": {},
   "outputs": [
    {
     "data": {
      "text/html": [
       "<div>\n",
       "<style scoped>\n",
       "    .dataframe tbody tr th:only-of-type {\n",
       "        vertical-align: middle;\n",
       "    }\n",
       "\n",
       "    .dataframe tbody tr th {\n",
       "        vertical-align: top;\n",
       "    }\n",
       "\n",
       "    .dataframe thead th {\n",
       "        text-align: right;\n",
       "    }\n",
       "</style>\n",
       "<table border=\"1\" class=\"dataframe\">\n",
       "  <thead>\n",
       "    <tr style=\"text-align: right;\">\n",
       "      <th></th>\n",
       "      <th>age</th>\n",
       "      <th>sex</th>\n",
       "      <th>chest pain type</th>\n",
       "      <th>resting bp s</th>\n",
       "      <th>cholesterol</th>\n",
       "      <th>fasting blood sugar</th>\n",
       "      <th>resting ecg</th>\n",
       "      <th>max heart rate</th>\n",
       "      <th>exercise angina</th>\n",
       "      <th>oldpeak</th>\n",
       "      <th>ST slope</th>\n",
       "      <th>target</th>\n",
       "    </tr>\n",
       "  </thead>\n",
       "  <tbody>\n",
       "    <tr>\n",
       "      <td>0</td>\n",
       "      <td>40</td>\n",
       "      <td>1</td>\n",
       "      <td>2</td>\n",
       "      <td>140</td>\n",
       "      <td>289</td>\n",
       "      <td>0</td>\n",
       "      <td>0</td>\n",
       "      <td>172</td>\n",
       "      <td>0</td>\n",
       "      <td>0.0</td>\n",
       "      <td>1</td>\n",
       "      <td>0</td>\n",
       "    </tr>\n",
       "    <tr>\n",
       "      <td>1</td>\n",
       "      <td>49</td>\n",
       "      <td>0</td>\n",
       "      <td>3</td>\n",
       "      <td>160</td>\n",
       "      <td>180</td>\n",
       "      <td>0</td>\n",
       "      <td>0</td>\n",
       "      <td>156</td>\n",
       "      <td>0</td>\n",
       "      <td>1.0</td>\n",
       "      <td>2</td>\n",
       "      <td>1</td>\n",
       "    </tr>\n",
       "    <tr>\n",
       "      <td>2</td>\n",
       "      <td>37</td>\n",
       "      <td>1</td>\n",
       "      <td>2</td>\n",
       "      <td>130</td>\n",
       "      <td>283</td>\n",
       "      <td>0</td>\n",
       "      <td>1</td>\n",
       "      <td>98</td>\n",
       "      <td>0</td>\n",
       "      <td>0.0</td>\n",
       "      <td>1</td>\n",
       "      <td>0</td>\n",
       "    </tr>\n",
       "    <tr>\n",
       "      <td>3</td>\n",
       "      <td>48</td>\n",
       "      <td>0</td>\n",
       "      <td>4</td>\n",
       "      <td>138</td>\n",
       "      <td>214</td>\n",
       "      <td>0</td>\n",
       "      <td>0</td>\n",
       "      <td>108</td>\n",
       "      <td>1</td>\n",
       "      <td>1.5</td>\n",
       "      <td>2</td>\n",
       "      <td>1</td>\n",
       "    </tr>\n",
       "    <tr>\n",
       "      <td>4</td>\n",
       "      <td>54</td>\n",
       "      <td>1</td>\n",
       "      <td>3</td>\n",
       "      <td>150</td>\n",
       "      <td>195</td>\n",
       "      <td>0</td>\n",
       "      <td>0</td>\n",
       "      <td>122</td>\n",
       "      <td>0</td>\n",
       "      <td>0.0</td>\n",
       "      <td>1</td>\n",
       "      <td>0</td>\n",
       "    </tr>\n",
       "  </tbody>\n",
       "</table>\n",
       "</div>"
      ],
      "text/plain": [
       "   age  sex  chest pain type  resting bp s  cholesterol  fasting blood sugar  \\\n",
       "0   40    1                2           140          289                    0   \n",
       "1   49    0                3           160          180                    0   \n",
       "2   37    1                2           130          283                    0   \n",
       "3   48    0                4           138          214                    0   \n",
       "4   54    1                3           150          195                    0   \n",
       "\n",
       "   resting ecg  max heart rate  exercise angina  oldpeak  ST slope  target  \n",
       "0            0             172                0      0.0         1       0  \n",
       "1            0             156                0      1.0         2       1  \n",
       "2            1              98                0      0.0         1       0  \n",
       "3            0             108                1      1.5         2       1  \n",
       "4            0             122                0      0.0         1       0  "
      ]
     },
     "execution_count": 5,
     "metadata": {},
     "output_type": "execute_result"
    }
   ],
   "source": [
    "data.head()"
   ]
  },
  {
   "cell_type": "code",
   "execution_count": 6,
   "metadata": {},
   "outputs": [
    {
     "name": "stdout",
     "output_type": "stream",
     "text": [
      "<class 'pandas.core.frame.DataFrame'>\n",
      "RangeIndex: 1190 entries, 0 to 1189\n",
      "Data columns (total 12 columns):\n",
      "age                    1190 non-null int64\n",
      "sex                    1190 non-null int64\n",
      "chest pain type        1190 non-null int64\n",
      "resting bp s           1190 non-null int64\n",
      "cholesterol            1190 non-null int64\n",
      "fasting blood sugar    1190 non-null int64\n",
      "resting ecg            1190 non-null int64\n",
      "max heart rate         1190 non-null int64\n",
      "exercise angina        1190 non-null int64\n",
      "oldpeak                1190 non-null float64\n",
      "ST slope               1190 non-null int64\n",
      "target                 1190 non-null int64\n",
      "dtypes: float64(1), int64(11)\n",
      "memory usage: 111.7 KB\n"
     ]
    }
   ],
   "source": [
    "data.info()"
   ]
  },
  {
   "cell_type": "code",
   "execution_count": 7,
   "metadata": {},
   "outputs": [],
   "source": [
    "X = data.drop([\"target\"],axis =1)\n",
    "y = data[\"target\"]"
   ]
  },
  {
   "cell_type": "code",
   "execution_count": 8,
   "metadata": {},
   "outputs": [],
   "source": [
    "ML_Model = []\n",
    "accuracy = []\n",
    "precision = []\n",
    "recall = []\n",
    "f1score = []\n",
    "gmean = []\n",
    "\n",
    "#function to call for storing the results\n",
    "def storeResults(model, a,b,c,d,e):\n",
    "    ML_Model.append(model)\n",
    "    accuracy.append(round(a, 3))\n",
    "    precision.append(round(b, 3))\n",
    "    recall.append(round(c, 3))\n",
    "    f1score.append(round(d, 3))\n",
    "    gmean.append(round(e,3))"
   ]
  },
  {
   "cell_type": "code",
   "execution_count": 9,
   "metadata": {},
   "outputs": [],
   "source": [
    "from sklearn.metrics import accuracy_score, precision_score, recall_score, f1_score, roc_auc_score\n",
    "from imblearn.metrics import geometric_mean_score"
   ]
  },
  {
   "cell_type": "markdown",
   "metadata": {},
   "source": [
    "# RepTree Algorithm"
   ]
  },
  {
   "cell_type": "code",
   "execution_count": 11,
   "metadata": {},
   "outputs": [],
   "source": [
    "from sklearn.tree import DecisionTreeClassifier\n",
    "tree = DecisionTreeClassifier(random_state=42)\n",
    "tree.fit(X,y)\n",
    "\n",
    "y_pred    = tree.predict(X)\n",
    "\n",
    "reptree_acc = accuracy_score(y_pred, y)\n",
    "reptree_prec = precision_score(y_pred, y,average='weighted')\n",
    "reptree_rec = recall_score(y_pred, y,average='weighted')\n",
    "reptree_f1 = f1_score(y_pred, y,average='weighted')\n",
    "reptree_gmean = geometric_mean_score(y, y_pred, correction=0.001)"
   ]
  },
  {
   "cell_type": "markdown",
   "metadata": {},
   "source": [
    "# SVM"
   ]
  },
  {
   "cell_type": "code",
   "execution_count": 57,
   "metadata": {},
   "outputs": [],
   "source": [
    "from sklearn.svm import SVC\n",
    "svm = SVC(probability=True)\n",
    "svm.fit(x_train, y_train)\n",
    "\n",
    "y_pred    = svm.predict(x_valid)\n",
    "\n",
    "svm_acc = accuracy_score(y_pred, y_valid)\n",
    "svm_prec = precision_score(y_pred, y_valid,average='weighted')\n",
    "svm_rec = recall_score(y_pred, y_valid,average='weighted')\n",
    "svm_f1 = f1_score(y_pred, y_valid,average='weighted')\n",
    "svm_gmean = geometric_mean_score(y_valid, y_pred, correction=0.001)"
   ]
  },
  {
   "cell_type": "markdown",
   "metadata": {},
   "source": [
    "# Bagging Classifier"
   ]
  },
  {
   "cell_type": "code",
   "execution_count": 58,
   "metadata": {},
   "outputs": [],
   "source": [
    "from sklearn.ensemble import BaggingClassifier\n",
    "clf = BaggingClassifier(DecisionTreeClassifier(random_state=42),n_estimators=10, random_state=0)\n",
    "clf.fit(x_train, y_train)\n",
    "\n",
    "y_pred    = clf.predict(x_valid)\n",
    "\n",
    "bc_acc = accuracy_score(y_pred, y_valid)\n",
    "bc_prec = precision_score(y_pred, y_valid,average='weighted')\n",
    "bc_rec = recall_score(y_pred, y_valid,average='weighted')\n",
    "bc_f1 = f1_score(y_pred, y_valid,average='weighted')\n",
    "bc_gmean = geometric_mean_score(y_valid, y_pred, correction=0.001)"
   ]
  },
  {
   "cell_type": "markdown",
   "metadata": {},
   "source": [
    "# ANN - MLP"
   ]
  },
  {
   "cell_type": "code",
   "execution_count": 59,
   "metadata": {},
   "outputs": [],
   "source": [
    "from sklearn.neural_network import MLPClassifier\n",
    "mlp = MLPClassifier(random_state=1, max_iter=300)\n",
    "mlp.fit(x_train, y_train)\n",
    "\n",
    "y_pred    = mlp.predict(x_valid)\n",
    "\n",
    "mlp_acc = accuracy_score(y_pred, y_valid)\n",
    "mlp_prec = precision_score(y_pred, y_valid,average='weighted')\n",
    "mlp_rec = recall_score(y_pred, y_valid,average='weighted')\n",
    "mlp_f1 = f1_score(y_pred, y_valid,average='weighted')\n",
    "mlp_gmean = geometric_mean_score(y_valid, y_pred, correction=0.001)"
   ]
  },
  {
   "cell_type": "markdown",
   "metadata": {},
   "source": [
    "# J48"
   ]
  },
  {
   "cell_type": "code",
   "execution_count": 60,
   "metadata": {},
   "outputs": [],
   "source": [
    "from c45 import C45\n",
    "clf = C45()\n",
    "\n",
    "clf.fit(x_train, y_train)\n",
    "y_pred    = clf.predict(x_valid)\n",
    "\n",
    "j48_acc = accuracy_score(y_pred, y_valid)\n",
    "j48_prec = precision_score(y_pred, y_valid,average='weighted')\n",
    "j48_rec = recall_score(y_pred, y_valid,average='weighted')\n",
    "j48_f1 = f1_score(y_pred, y_valid,average='weighted')\n",
    "j48_gmean = geometric_mean_score(y_valid, y_pred, correction=0.001)"
   ]
  },
  {
   "cell_type": "markdown",
   "metadata": {},
   "source": [
    "# SC Algorithm"
   ]
  },
  {
   "cell_type": "code",
   "execution_count": 61,
   "metadata": {},
   "outputs": [],
   "source": [
    "from sklearn.ensemble import RandomForestClassifier\n",
    "from sklearn.svm import LinearSVC\n",
    "from sklearn.linear_model import LogisticRegression\n",
    "from sklearn.preprocessing import StandardScaler\n",
    "from sklearn.pipeline import make_pipeline\n",
    "from sklearn.ensemble import StackingClassifier\n",
    "estimators = [('rf', RandomForestClassifier(n_estimators=10, random_state=42)),('svr', make_pipeline(StandardScaler(),LinearSVC(random_state=42)))]\n",
    "clf = StackingClassifier(estimators=estimators, final_estimator=LogisticRegression())\n",
    "clf.fit(x_train, y_train)\n",
    "y_pred    = clf.predict(x_valid)\n",
    "\n",
    "sc_acc = accuracy_score(y_pred, y_valid)\n",
    "sc_prec = precision_score(y_pred, y_valid,average='weighted')\n",
    "sc_rec = recall_score(y_pred, y_valid,average='weighted')\n",
    "sc_f1 = f1_score(y_pred, y_valid,average='weighted')\n",
    "sc_gmean = geometric_mean_score(y_valid, y_pred, correction=0.001)"
   ]
  },
  {
   "cell_type": "markdown",
   "metadata": {},
   "source": [
    "# DL"
   ]
  },
  {
   "cell_type": "code",
   "execution_count": 36,
   "metadata": {},
   "outputs": [],
   "source": [
    "from keras.layers import Dense, BatchNormalization, Dropout, LSTM\n",
    "from keras.models import Sequential\n",
    "from keras import callbacks"
   ]
  },
  {
   "cell_type": "code",
   "execution_count": 37,
   "metadata": {},
   "outputs": [],
   "source": [
    "early_stopping = callbacks.EarlyStopping(\n",
    "    min_delta=0.001, # minimium amount of change to count as an improvement\n",
    "    patience=20, # how many epochs to wait before stopping\n",
    "    restore_best_weights=True)"
   ]
  },
  {
   "cell_type": "code",
   "execution_count": 70,
   "metadata": {},
   "outputs": [],
   "source": [
    "# Initialising the NN\n",
    "model = Sequential()\n",
    "\n",
    "# layers\n",
    "model.add(Dense(units = 64, kernel_initializer = 'uniform', activation = 'relu', input_dim = 4))\n",
    "model.add(Dense(units = 32, kernel_initializer = 'uniform', activation = 'relu'))\n",
    "model.add(Dropout(0.25))\n",
    "model.add(Dense(units = 32, kernel_initializer = 'uniform', activation = 'relu'))\n",
    "model.add(Dropout(0.5))\n",
    "model.add(Dense(units = 1, kernel_initializer = 'uniform', activation = 'sigmoid'))\n",
    "\n",
    "# Compiling the ANN\n",
    "model.compile(optimizer = 'adam', loss = 'binary_crossentropy', metrics = ['accuracy'])"
   ]
  },
  {
   "cell_type": "code",
   "execution_count": 71,
   "metadata": {},
   "outputs": [
    {
     "name": "stdout",
     "output_type": "stream",
     "text": [
      "Epoch 1/1000\n",
      "333/333 [==============================] - 2s 2ms/step - loss: 0.6939 - accuracy: 0.4804 - val_loss: 0.6855 - val_accuracy: 0.5569\n",
      "Epoch 2/1000\n",
      "333/333 [==============================] - 0s 994us/step - loss: 0.6925 - accuracy: 0.5053 - val_loss: 0.6735 - val_accuracy: 0.5569\n",
      "Epoch 3/1000\n",
      "333/333 [==============================] - 0s 1000us/step - loss: 0.6508 - accuracy: 0.5986 - val_loss: 0.6377 - val_accuracy: 0.6587\n",
      "Epoch 4/1000\n",
      "333/333 [==============================] - 0s 1ms/step - loss: 0.6182 - accuracy: 0.6854 - val_loss: 0.5201 - val_accuracy: 0.7545\n",
      "Epoch 5/1000\n",
      "333/333 [==============================] - 0s 1ms/step - loss: 0.5714 - accuracy: 0.7213 - val_loss: 0.5713 - val_accuracy: 0.7066\n",
      "Epoch 6/1000\n",
      "333/333 [==============================] - 0s 1ms/step - loss: 0.5711 - accuracy: 0.7439 - val_loss: 0.5304 - val_accuracy: 0.7485\n",
      "Epoch 7/1000\n",
      "333/333 [==============================] - 0s 1ms/step - loss: 0.5680 - accuracy: 0.7213 - val_loss: 0.5102 - val_accuracy: 0.7605\n",
      "Epoch 8/1000\n",
      "333/333 [==============================] - 0s 1ms/step - loss: 0.5433 - accuracy: 0.7499 - val_loss: 0.5227 - val_accuracy: 0.7545\n",
      "Epoch 9/1000\n",
      "333/333 [==============================] - 0s 1ms/step - loss: 0.5592 - accuracy: 0.7263 - val_loss: 0.5031 - val_accuracy: 0.7545\n",
      "Epoch 10/1000\n",
      "333/333 [==============================] - 0s 1ms/step - loss: 0.5323 - accuracy: 0.7616 - val_loss: 0.5081 - val_accuracy: 0.7545\n",
      "Epoch 11/1000\n",
      "333/333 [==============================] - 0s 1ms/step - loss: 0.5523 - accuracy: 0.7355 - val_loss: 0.5022 - val_accuracy: 0.7725\n",
      "Epoch 12/1000\n",
      "333/333 [==============================] - 0s 1ms/step - loss: 0.5705 - accuracy: 0.6935 - val_loss: 0.5154 - val_accuracy: 0.7545\n",
      "Epoch 13/1000\n",
      "333/333 [==============================] - 0s 1ms/step - loss: 0.5720 - accuracy: 0.7315 - val_loss: 0.5248 - val_accuracy: 0.7365\n",
      "Epoch 14/1000\n",
      "333/333 [==============================] - 0s 1ms/step - loss: 0.5643 - accuracy: 0.7298 - val_loss: 0.5010 - val_accuracy: 0.7605\n",
      "Epoch 15/1000\n",
      "333/333 [==============================] - 0s 1ms/step - loss: 0.5499 - accuracy: 0.7365 - val_loss: 0.5302 - val_accuracy: 0.7246\n",
      "Epoch 16/1000\n",
      "333/333 [==============================] - 0s 1ms/step - loss: 0.5598 - accuracy: 0.7231 - val_loss: 0.5158 - val_accuracy: 0.7425\n",
      "Epoch 17/1000\n",
      "333/333 [==============================] - 0s 1ms/step - loss: 0.5417 - accuracy: 0.7565 - val_loss: 0.5073 - val_accuracy: 0.7605\n",
      "Epoch 18/1000\n",
      "333/333 [==============================] - 0s 1ms/step - loss: 0.5306 - accuracy: 0.7778 - val_loss: 0.5021 - val_accuracy: 0.7605\n",
      "Epoch 19/1000\n",
      "333/333 [==============================] - 0s 1ms/step - loss: 0.5752 - accuracy: 0.7158 - val_loss: 0.4970 - val_accuracy: 0.7485\n",
      "Epoch 20/1000\n",
      "333/333 [==============================] - 0s 1ms/step - loss: 0.5277 - accuracy: 0.7729 - val_loss: 0.5118 - val_accuracy: 0.7605\n",
      "Epoch 21/1000\n",
      "333/333 [==============================] - 0s 1ms/step - loss: 0.5458 - accuracy: 0.7628 - val_loss: 0.5671 - val_accuracy: 0.7006\n",
      "Epoch 22/1000\n",
      "333/333 [==============================] - 0s 1ms/step - loss: 0.5581 - accuracy: 0.7157 - val_loss: 0.5055 - val_accuracy: 0.7246\n",
      "Epoch 23/1000\n",
      "333/333 [==============================] - 0s 1ms/step - loss: 0.5239 - accuracy: 0.7411 - val_loss: 0.4948 - val_accuracy: 0.7665\n",
      "Epoch 24/1000\n",
      "333/333 [==============================] - 0s 1ms/step - loss: 0.5118 - accuracy: 0.7834 - val_loss: 0.5033 - val_accuracy: 0.7605\n",
      "Epoch 25/1000\n",
      "333/333 [==============================] - 0s 1ms/step - loss: 0.5250 - accuracy: 0.7433 - val_loss: 0.4949 - val_accuracy: 0.7605\n",
      "Epoch 26/1000\n",
      "333/333 [==============================] - 0s 1ms/step - loss: 0.5154 - accuracy: 0.7559 - val_loss: 0.4947 - val_accuracy: 0.7425\n",
      "Epoch 27/1000\n",
      "333/333 [==============================] - 0s 1ms/step - loss: 0.5031 - accuracy: 0.7703 - val_loss: 0.4862 - val_accuracy: 0.7545\n",
      "Epoch 28/1000\n",
      "333/333 [==============================] - 0s 1ms/step - loss: 0.5370 - accuracy: 0.7417 - val_loss: 0.5011 - val_accuracy: 0.7605\n",
      "Epoch 29/1000\n",
      "333/333 [==============================] - 0s 1ms/step - loss: 0.5291 - accuracy: 0.7461 - val_loss: 0.4848 - val_accuracy: 0.7485\n",
      "Epoch 30/1000\n",
      "333/333 [==============================] - 0s 1ms/step - loss: 0.5650 - accuracy: 0.7361 - val_loss: 0.4901 - val_accuracy: 0.7485\n",
      "Epoch 31/1000\n",
      "333/333 [==============================] - 0s 1ms/step - loss: 0.5184 - accuracy: 0.7657 - val_loss: 0.4815 - val_accuracy: 0.7545\n",
      "Epoch 32/1000\n",
      "333/333 [==============================] - 0s 1ms/step - loss: 0.5195 - accuracy: 0.7186 - val_loss: 0.4847 - val_accuracy: 0.7485\n",
      "Epoch 33/1000\n",
      "333/333 [==============================] - 0s 1ms/step - loss: 0.5258 - accuracy: 0.7478 - val_loss: 0.4939 - val_accuracy: 0.7665\n",
      "Epoch 34/1000\n",
      "333/333 [==============================] - 0s 1ms/step - loss: 0.4964 - accuracy: 0.7712 - val_loss: 0.4834 - val_accuracy: 0.7725\n",
      "Epoch 35/1000\n",
      "333/333 [==============================] - 0s 1ms/step - loss: 0.5481 - accuracy: 0.7385 - val_loss: 0.4971 - val_accuracy: 0.7665\n",
      "Epoch 36/1000\n",
      "333/333 [==============================] - 0s 1ms/step - loss: 0.5384 - accuracy: 0.7392 - val_loss: 0.4923 - val_accuracy: 0.7665\n",
      "Epoch 37/1000\n",
      "333/333 [==============================] - 0s 1ms/step - loss: 0.5335 - accuracy: 0.7473 - val_loss: 0.4898 - val_accuracy: 0.7305\n",
      "Epoch 38/1000\n",
      "333/333 [==============================] - 0s 1ms/step - loss: 0.5440 - accuracy: 0.7415 - val_loss: 0.4786 - val_accuracy: 0.7545\n",
      "Epoch 39/1000\n",
      "333/333 [==============================] - 0s 1ms/step - loss: 0.5282 - accuracy: 0.7490 - val_loss: 0.4818 - val_accuracy: 0.7545\n",
      "Epoch 40/1000\n",
      "333/333 [==============================] - 0s 1ms/step - loss: 0.5525 - accuracy: 0.7195 - val_loss: 0.5127 - val_accuracy: 0.7246\n",
      "Epoch 41/1000\n",
      "333/333 [==============================] - 0s 984us/step - loss: 0.4959 - accuracy: 0.7527 - val_loss: 0.4724 - val_accuracy: 0.7485\n",
      "Epoch 42/1000\n",
      "333/333 [==============================] - 0s 1ms/step - loss: 0.5197 - accuracy: 0.7484 - val_loss: 0.5300 - val_accuracy: 0.7545\n",
      "Epoch 43/1000\n",
      "333/333 [==============================] - 0s 991us/step - loss: 0.5604 - accuracy: 0.7224 - val_loss: 0.4808 - val_accuracy: 0.7485\n",
      "Epoch 44/1000\n",
      "333/333 [==============================] - 0s 1ms/step - loss: 0.5470 - accuracy: 0.7392 - val_loss: 0.4745 - val_accuracy: 0.7485\n",
      "Epoch 45/1000\n",
      "333/333 [==============================] - 0s 1ms/step - loss: 0.5147 - accuracy: 0.7552 - val_loss: 0.4768 - val_accuracy: 0.7545\n",
      "Epoch 46/1000\n",
      "333/333 [==============================] - 0s 1ms/step - loss: 0.5206 - accuracy: 0.7390 - val_loss: 0.5357 - val_accuracy: 0.7545\n",
      "Epoch 47/1000\n",
      "333/333 [==============================] - 0s 1ms/step - loss: 0.5448 - accuracy: 0.7450 - val_loss: 0.4786 - val_accuracy: 0.7485\n",
      "Epoch 48/1000\n",
      "333/333 [==============================] - 0s 963us/step - loss: 0.5079 - accuracy: 0.7545 - val_loss: 0.4700 - val_accuracy: 0.7605\n",
      "Epoch 49/1000\n",
      "333/333 [==============================] - 0s 1ms/step - loss: 0.5266 - accuracy: 0.7445 - val_loss: 0.4868 - val_accuracy: 0.7665\n",
      "Epoch 50/1000\n",
      "333/333 [==============================] - 0s 1ms/step - loss: 0.5182 - accuracy: 0.7698 - val_loss: 0.4817 - val_accuracy: 0.7725\n",
      "Epoch 51/1000\n",
      "333/333 [==============================] - 0s 1ms/step - loss: 0.4997 - accuracy: 0.7607 - val_loss: 0.4790 - val_accuracy: 0.7545\n",
      "Epoch 52/1000\n",
      "333/333 [==============================] - 0s 1ms/step - loss: 0.5801 - accuracy: 0.7003 - val_loss: 0.4959 - val_accuracy: 0.7605\n",
      "Epoch 53/1000\n",
      "333/333 [==============================] - 0s 1ms/step - loss: 0.5177 - accuracy: 0.7538 - val_loss: 0.4685 - val_accuracy: 0.7605\n",
      "Epoch 54/1000\n",
      "333/333 [==============================] - 0s 1ms/step - loss: 0.5097 - accuracy: 0.7600 - val_loss: 0.4709 - val_accuracy: 0.7545\n",
      "Epoch 55/1000\n",
      "333/333 [==============================] - 0s 1ms/step - loss: 0.5042 - accuracy: 0.7383 - val_loss: 0.5150 - val_accuracy: 0.7425\n",
      "Epoch 56/1000\n",
      "333/333 [==============================] - 0s 1ms/step - loss: 0.5267 - accuracy: 0.7329 - val_loss: 0.4809 - val_accuracy: 0.7305\n",
      "Epoch 57/1000\n",
      "333/333 [==============================] - 1s 2ms/step - loss: 0.5024 - accuracy: 0.7582 - val_loss: 0.4748 - val_accuracy: 0.7485\n",
      "Epoch 58/1000\n",
      "333/333 [==============================] - 1s 2ms/step - loss: 0.5096 - accuracy: 0.7558 - val_loss: 0.4998 - val_accuracy: 0.7545\n",
      "Epoch 59/1000\n",
      "333/333 [==============================] - 1s 2ms/step - loss: 0.4992 - accuracy: 0.7673 - val_loss: 0.4939 - val_accuracy: 0.7545\n",
      "Epoch 60/1000\n",
      "333/333 [==============================] - 1s 2ms/step - loss: 0.5132 - accuracy: 0.7653 - val_loss: 0.4737 - val_accuracy: 0.7485\n",
      "Epoch 61/1000\n",
      "333/333 [==============================] - 0s 1ms/step - loss: 0.5136 - accuracy: 0.7707 - val_loss: 0.4919 - val_accuracy: 0.7784\n",
      "Epoch 62/1000\n",
      "333/333 [==============================] - 0s 1ms/step - loss: 0.5266 - accuracy: 0.7671 - val_loss: 0.4801 - val_accuracy: 0.7365\n",
      "Epoch 63/1000\n",
      "333/333 [==============================] - 0s 1ms/step - loss: 0.5185 - accuracy: 0.7582 - val_loss: 0.5164 - val_accuracy: 0.7605\n",
      "Epoch 64/1000\n",
      "333/333 [==============================] - 0s 1ms/step - loss: 0.5113 - accuracy: 0.7342 - val_loss: 0.4575 - val_accuracy: 0.7605\n",
      "Epoch 65/1000\n",
      "333/333 [==============================] - 1s 2ms/step - loss: 0.5068 - accuracy: 0.7783 - val_loss: 0.4867 - val_accuracy: 0.7425\n",
      "Epoch 66/1000\n",
      "333/333 [==============================] - 1s 2ms/step - loss: 0.5301 - accuracy: 0.7307 - val_loss: 0.4703 - val_accuracy: 0.7725\n",
      "Epoch 67/1000\n",
      "333/333 [==============================] - 1s 2ms/step - loss: 0.4897 - accuracy: 0.7736 - val_loss: 0.4663 - val_accuracy: 0.7844\n",
      "Epoch 68/1000\n",
      "333/333 [==============================] - 1s 2ms/step - loss: 0.5079 - accuracy: 0.7479 - val_loss: 0.5007 - val_accuracy: 0.7485\n",
      "Epoch 69/1000\n",
      "333/333 [==============================] - 0s 1ms/step - loss: 0.4885 - accuracy: 0.7583 - val_loss: 0.5071 - val_accuracy: 0.7485\n",
      "Epoch 70/1000\n",
      "333/333 [==============================] - 0s 1ms/step - loss: 0.5009 - accuracy: 0.7369 - val_loss: 0.4590 - val_accuracy: 0.7605\n",
      "Epoch 71/1000\n",
      "333/333 [==============================] - 0s 1ms/step - loss: 0.4518 - accuracy: 0.7822 - val_loss: 0.4971 - val_accuracy: 0.7665\n",
      "Epoch 72/1000\n",
      "333/333 [==============================] - 0s 1ms/step - loss: 0.5108 - accuracy: 0.7380 - val_loss: 0.4567 - val_accuracy: 0.7485\n",
      "Epoch 73/1000\n",
      "333/333 [==============================] - 1s 2ms/step - loss: 0.5040 - accuracy: 0.7434 - val_loss: 0.4586 - val_accuracy: 0.7725\n",
      "Epoch 74/1000\n",
      "333/333 [==============================] - 1s 2ms/step - loss: 0.4995 - accuracy: 0.7566 - val_loss: 0.4516 - val_accuracy: 0.7365\n",
      "Epoch 75/1000\n",
      "333/333 [==============================] - 0s 1ms/step - loss: 0.4986 - accuracy: 0.7589 - val_loss: 0.4968 - val_accuracy: 0.7605\n",
      "Epoch 76/1000\n",
      "333/333 [==============================] - 0s 1ms/step - loss: 0.5120 - accuracy: 0.7709 - val_loss: 0.4519 - val_accuracy: 0.7605\n",
      "Epoch 77/1000\n",
      "333/333 [==============================] - 0s 1ms/step - loss: 0.5173 - accuracy: 0.7240 - val_loss: 0.4726 - val_accuracy: 0.7784\n",
      "Epoch 78/1000\n",
      "333/333 [==============================] - 0s 1ms/step - loss: 0.5067 - accuracy: 0.7924 - val_loss: 0.4691 - val_accuracy: 0.7665\n",
      "Epoch 79/1000\n",
      "333/333 [==============================] - 0s 1ms/step - loss: 0.5133 - accuracy: 0.7413 - val_loss: 0.4657 - val_accuracy: 0.7725\n",
      "Epoch 80/1000\n",
      "333/333 [==============================] - 0s 1ms/step - loss: 0.5060 - accuracy: 0.7558 - val_loss: 0.4560 - val_accuracy: 0.7485\n",
      "Epoch 81/1000\n",
      "333/333 [==============================] - 0s 1ms/step - loss: 0.4995 - accuracy: 0.7475 - val_loss: 0.4640 - val_accuracy: 0.7545\n",
      "Epoch 82/1000\n",
      "333/333 [==============================] - 1s 2ms/step - loss: 0.5127 - accuracy: 0.7393 - val_loss: 0.4710 - val_accuracy: 0.7665\n",
      "Epoch 83/1000\n",
      "333/333 [==============================] - 0s 1ms/step - loss: 0.4727 - accuracy: 0.7806 - val_loss: 0.4539 - val_accuracy: 0.7665\n",
      "Epoch 84/1000\n",
      "333/333 [==============================] - 0s 1ms/step - loss: 0.4522 - accuracy: 0.7707 - val_loss: 0.4577 - val_accuracy: 0.7605\n",
      "Epoch 85/1000\n",
      "333/333 [==============================] - 1s 2ms/step - loss: 0.4957 - accuracy: 0.7314 - val_loss: 0.4741 - val_accuracy: 0.7784\n",
      "Epoch 86/1000\n",
      "333/333 [==============================] - 1s 2ms/step - loss: 0.5501 - accuracy: 0.7136 - val_loss: 0.4723 - val_accuracy: 0.7425\n",
      "Epoch 87/1000\n",
      "333/333 [==============================] - 0s 1ms/step - loss: 0.5131 - accuracy: 0.7562 - val_loss: 0.5517 - val_accuracy: 0.7605\n",
      "Epoch 88/1000\n",
      "333/333 [==============================] - 0s 1ms/step - loss: 0.5046 - accuracy: 0.7411 - val_loss: 0.4722 - val_accuracy: 0.7904\n",
      "Epoch 89/1000\n",
      "333/333 [==============================] - 0s 1ms/step - loss: 0.5074 - accuracy: 0.7626 - val_loss: 0.4618 - val_accuracy: 0.7725\n",
      "Epoch 90/1000\n",
      "333/333 [==============================] - 1s 2ms/step - loss: 0.4733 - accuracy: 0.7505 - val_loss: 0.4633 - val_accuracy: 0.7545\n",
      "Epoch 91/1000\n",
      "333/333 [==============================] - 1s 2ms/step - loss: 0.4777 - accuracy: 0.7822 - val_loss: 0.4465 - val_accuracy: 0.7725\n",
      "Epoch 92/1000\n",
      "333/333 [==============================] - 0s 1ms/step - loss: 0.5029 - accuracy: 0.7606 - val_loss: 0.4620 - val_accuracy: 0.7665\n",
      "Epoch 93/1000\n",
      "333/333 [==============================] - 0s 1ms/step - loss: 0.4587 - accuracy: 0.7832 - val_loss: 0.4728 - val_accuracy: 0.7665\n",
      "Epoch 94/1000\n",
      "333/333 [==============================] - 0s 1ms/step - loss: 0.5103 - accuracy: 0.7538 - val_loss: 0.4603 - val_accuracy: 0.7365\n",
      "Epoch 95/1000\n",
      "333/333 [==============================] - 0s 1ms/step - loss: 0.5183 - accuracy: 0.7502 - val_loss: 0.4697 - val_accuracy: 0.7784\n",
      "Epoch 96/1000\n",
      "333/333 [==============================] - 0s 1ms/step - loss: 0.5126 - accuracy: 0.7472 - val_loss: 0.4497 - val_accuracy: 0.7545\n",
      "Epoch 97/1000\n",
      "333/333 [==============================] - 0s 1ms/step - loss: 0.4590 - accuracy: 0.7707 - val_loss: 0.4512 - val_accuracy: 0.7665\n",
      "Epoch 98/1000\n",
      "333/333 [==============================] - 1s 2ms/step - loss: 0.4550 - accuracy: 0.7743 - val_loss: 0.4730 - val_accuracy: 0.7725\n",
      "Epoch 99/1000\n",
      "333/333 [==============================] - 1s 2ms/step - loss: 0.4905 - accuracy: 0.7663 - val_loss: 0.4556 - val_accuracy: 0.7784\n",
      "Epoch 100/1000\n",
      "333/333 [==============================] - 0s 1ms/step - loss: 0.4996 - accuracy: 0.7186 - val_loss: 0.4640 - val_accuracy: 0.7425\n",
      "Epoch 101/1000\n",
      "333/333 [==============================] - 0s 1ms/step - loss: 0.5144 - accuracy: 0.7594 - val_loss: 0.4543 - val_accuracy: 0.7605\n",
      "Epoch 102/1000\n",
      "333/333 [==============================] - 0s 1ms/step - loss: 0.5009 - accuracy: 0.7490 - val_loss: 0.4571 - val_accuracy: 0.7665\n",
      "Epoch 103/1000\n",
      "333/333 [==============================] - 0s 1ms/step - loss: 0.4828 - accuracy: 0.7564 - val_loss: 0.4663 - val_accuracy: 0.7784\n",
      "Epoch 104/1000\n",
      "333/333 [==============================] - 0s 1ms/step - loss: 0.4805 - accuracy: 0.7530 - val_loss: 0.5131 - val_accuracy: 0.7545\n",
      "Epoch 105/1000\n",
      "333/333 [==============================] - 1s 2ms/step - loss: 0.5194 - accuracy: 0.7425 - val_loss: 0.4410 - val_accuracy: 0.7305\n",
      "Epoch 106/1000\n",
      "333/333 [==============================] - 1s 2ms/step - loss: 0.4953 - accuracy: 0.7357 - val_loss: 0.4866 - val_accuracy: 0.7425\n",
      "Epoch 107/1000\n",
      "333/333 [==============================] - 1s 2ms/step - loss: 0.5248 - accuracy: 0.7303 - val_loss: 0.4531 - val_accuracy: 0.7605\n",
      "Epoch 108/1000\n",
      "333/333 [==============================] - 1s 2ms/step - loss: 0.4588 - accuracy: 0.7603 - val_loss: 0.4517 - val_accuracy: 0.7605\n",
      "Epoch 109/1000\n",
      "333/333 [==============================] - 0s 1ms/step - loss: 0.4772 - accuracy: 0.7682 - val_loss: 0.4729 - val_accuracy: 0.7725\n",
      "Epoch 110/1000\n",
      "333/333 [==============================] - 0s 1ms/step - loss: 0.4589 - accuracy: 0.8045 - val_loss: 0.4570 - val_accuracy: 0.7725\n",
      "Epoch 111/1000\n",
      "333/333 [==============================] - 0s 1ms/step - loss: 0.4431 - accuracy: 0.7653 - val_loss: 0.4661 - val_accuracy: 0.7605\n",
      "Epoch 112/1000\n",
      "333/333 [==============================] - 0s 1ms/step - loss: 0.5011 - accuracy: 0.7296 - val_loss: 0.4341 - val_accuracy: 0.7605\n",
      "Epoch 113/1000\n"
     ]
    },
    {
     "name": "stdout",
     "output_type": "stream",
     "text": [
      "333/333 [==============================] - 0s 1ms/step - loss: 0.4911 - accuracy: 0.7563 - val_loss: 0.4705 - val_accuracy: 0.7784\n",
      "Epoch 114/1000\n",
      "333/333 [==============================] - 1s 2ms/step - loss: 0.4871 - accuracy: 0.7751 - val_loss: 0.4592 - val_accuracy: 0.7246\n",
      "Epoch 115/1000\n",
      "333/333 [==============================] - 1s 2ms/step - loss: 0.4657 - accuracy: 0.7677 - val_loss: 0.4495 - val_accuracy: 0.7305\n",
      "Epoch 116/1000\n",
      "333/333 [==============================] - 1s 2ms/step - loss: 0.4597 - accuracy: 0.7923 - val_loss: 0.4572 - val_accuracy: 0.7605\n",
      "Epoch 117/1000\n",
      "333/333 [==============================] - 1s 2ms/step - loss: 0.4670 - accuracy: 0.7787 - val_loss: 0.4502 - val_accuracy: 0.7725\n",
      "Epoch 118/1000\n",
      "333/333 [==============================] - 0s 1ms/step - loss: 0.4600 - accuracy: 0.7816 - val_loss: 0.4556 - val_accuracy: 0.7725\n",
      "Epoch 119/1000\n",
      "333/333 [==============================] - 0s 1ms/step - loss: 0.5181 - accuracy: 0.7364 - val_loss: 0.4412 - val_accuracy: 0.7485\n",
      "Epoch 120/1000\n",
      "333/333 [==============================] - 0s 1ms/step - loss: 0.4962 - accuracy: 0.7611 - val_loss: 0.4465 - val_accuracy: 0.7725\n",
      "Epoch 121/1000\n",
      "333/333 [==============================] - 0s 1ms/step - loss: 0.4578 - accuracy: 0.7697 - val_loss: 0.4601 - val_accuracy: 0.7784\n",
      "Epoch 122/1000\n",
      "333/333 [==============================] - 1s 2ms/step - loss: 0.4868 - accuracy: 0.7837 - val_loss: 0.4639 - val_accuracy: 0.7784\n",
      "Epoch 123/1000\n",
      "333/333 [==============================] - 0s 1ms/step - loss: 0.5050 - accuracy: 0.7247 - val_loss: 0.4661 - val_accuracy: 0.7904\n",
      "Epoch 124/1000\n",
      "333/333 [==============================] - 0s 1ms/step - loss: 0.4727 - accuracy: 0.7734 - val_loss: 0.4835 - val_accuracy: 0.7844\n",
      "Epoch 125/1000\n",
      "333/333 [==============================] - 0s 1ms/step - loss: 0.4839 - accuracy: 0.7741 - val_loss: 0.4425 - val_accuracy: 0.7665\n",
      "Epoch 126/1000\n",
      "333/333 [==============================] - 0s 1ms/step - loss: 0.5222 - accuracy: 0.7193 - val_loss: 0.4476 - val_accuracy: 0.7844\n",
      "Epoch 127/1000\n",
      "333/333 [==============================] - 0s 1ms/step - loss: 0.5053 - accuracy: 0.7503 - val_loss: 0.4456 - val_accuracy: 0.7665\n",
      "Epoch 128/1000\n",
      "333/333 [==============================] - 0s 1ms/step - loss: 0.5165 - accuracy: 0.7667 - val_loss: 0.5476 - val_accuracy: 0.7545\n",
      "Epoch 129/1000\n",
      "333/333 [==============================] - 0s 1ms/step - loss: 0.4878 - accuracy: 0.7337 - val_loss: 0.4684 - val_accuracy: 0.7784\n",
      "Epoch 130/1000\n",
      "333/333 [==============================] - 0s 1ms/step - loss: 0.4977 - accuracy: 0.7664 - val_loss: 0.4537 - val_accuracy: 0.7784\n",
      "Epoch 131/1000\n",
      "333/333 [==============================] - 1s 2ms/step - loss: 0.4999 - accuracy: 0.7643 - val_loss: 0.4497 - val_accuracy: 0.7365\n",
      "Epoch 132/1000\n",
      "333/333 [==============================] - 0s 1ms/step - loss: 0.4658 - accuracy: 0.7674 - val_loss: 0.4601 - val_accuracy: 0.7904\n"
     ]
    }
   ],
   "source": [
    "# Train the ANN\n",
    "history = model.fit(x_train, y_train, batch_size = 2, epochs = 1000,callbacks=[early_stopping], validation_split=0.2)"
   ]
  },
  {
   "cell_type": "code",
   "execution_count": 72,
   "metadata": {},
   "outputs": [
    {
     "data": {
      "image/png": "[encoded data removed]",
      "text/plain": [
       "<Figure size 432x288 with 1 Axes>"
      ]
     },
     "metadata": {
      "needs_background": "light"
     },
     "output_type": "display_data"
    },
    {
     "data": {
      "image/png": "[encoded data removed]",
      "text/plain": [
       "<Figure size 432x288 with 1 Axes>"
      ]
     },
     "metadata": {
      "needs_background": "light"
     },
     "output_type": "display_data"
    }
   ],
   "source": [
    "history_df = pd.DataFrame(history.history)\n",
    "\n",
    "plt.plot(history_df.loc[:, ['loss']], \"#CD5C5C\", label='Training loss')\n",
    "plt.plot(history_df.loc[:, ['val_loss']],\"#FF0000\", label='Validation loss')\n",
    "plt.title('Training and Validation loss')\n",
    "plt.xlabel('Epochs')\n",
    "plt.ylabel('Loss')\n",
    "plt.legend(loc=\"best\")\n",
    "\n",
    "plt.show()\n",
    "\n",
    "history_df = pd.DataFrame(history.history)\n",
    "\n",
    "plt.plot(history_df.loc[:, ['accuracy']], \"#CD5C5C\", label='Training accuracy')\n",
    "plt.plot(history_df.loc[:, ['val_accuracy']],\"#FF0000\", label='Validation accuracy')\n",
    "\n",
    "plt.title('Training and Validation accuracy')\n",
    "plt.xlabel('Epochs')\n",
    "plt.ylabel('Accuracy')\n",
    "plt.legend()\n",
    "plt.show()"
   ]
  },
  {
   "cell_type": "code",
   "execution_count": 77,
   "metadata": {},
   "outputs": [],
   "source": [
    "from hyperopt import hp, fmin, tpe, rand, STATUS_OK, Trials\n",
    "from sklearn.model_selection import KFold, StratifiedKFold, cross_val_score, train_test_split\n",
    "from keras.models import Sequential\n",
    "from keras.layers.core import Dense, Dropout, Activation\n",
    "from tensorflow.keras.optimizers import Adadelta, Adam\n",
    "\n",
    "from collections import Counter\n",
    "import pandas as pd\n",
    "import numpy as np\n",
    "import pickle\n",
    "import time\n",
    "import sys"
   ]
  },
  {
   "cell_type": "code",
   "execution_count": 78,
   "metadata": {},
   "outputs": [],
   "source": [
    "seed = 42 # Set seed for reproducibility purposes\n",
    "metric = 'accuracy' # See other options https://scikit-learn.org/stable/modules/model_evaluation.html\n",
    "kFoldSplits = 5"
   ]
  },
  {
   "cell_type": "code",
   "execution_count": 79,
   "metadata": {},
   "outputs": [],
   "source": [
    "X = x_train\n",
    "y = y_train\n",
    "X_val = x_valid\n",
    "y_val = y_valid"
   ]
  },
  {
   "cell_type": "code",
   "execution_count": 80,
   "metadata": {},
   "outputs": [],
   "source": [
    "units_options = np.arange(32, 1024 + 1, 32, dtype=int)\n",
    "dropout_options = np.arange(.20,.75 + 0.01, 0.025, dtype=float)\n",
    "batchsize_options = np.arange(32, 128 + 1, 32, dtype=int)"
   ]
  },
  {
   "cell_type": "code",
   "execution_count": 81,
   "metadata": {},
   "outputs": [],
   "source": [
    "space = {'choice': hp.choice('num_layers',\n",
    "                            [ {'layers':'two', },\n",
    "                              {'layers':'three',\n",
    "                                    'units3': hp.choice('units3', units_options), \n",
    "                                    'dropout3': hp.choice('dropout3', dropout_options)}\n",
    "                            ]),\n",
    "\n",
    "            'units1': hp.choice('units1', units_options),\n",
    "            'units2': hp.choice('units2', units_options),\n",
    "\n",
    "            'dropout1': hp.choice('dropout1', dropout_options),\n",
    "            'dropout2': hp.choice('dropout2', dropout_options),\n",
    "\n",
    "            'batch_size' : hp.choice('batch_size', batchsize_options),\n",
    "\n",
    "            'nb_epochs' :  10,\n",
    "            'optimizer': hp.choice('optimizer',['adadelta','adam','rmsprop']),\n",
    "            'activation': 'relu'\n",
    "        }"
   ]
  },
  {
   "cell_type": "code",
   "execution_count": 82,
   "metadata": {},
   "outputs": [],
   "source": [
    "def f_nn(params):   \n",
    "\n",
    "    model = Sequential()\n",
    "    model.add(Dense(units=params['units1'], input_dim = X.shape[1])) \n",
    "    model.add(Activation(params['activation']))\n",
    "    model.add(Dropout(params['dropout1']))\n",
    "\n",
    "    model.add(Dense(units=params['units2'], kernel_initializer = \"glorot_uniform\")) \n",
    "    model.add(Activation(params['activation']))\n",
    "    model.add(Dropout(params['dropout2']))\n",
    "\n",
    "    if params['choice']['layers']== 'three':\n",
    "        model.add(Dense(units=params['choice']['units3'], kernel_initializer = \"glorot_uniform\")) \n",
    "        model.add(Activation(params['activation']))\n",
    "        model.add(Dropout(params['choice']['dropout3']))    \n",
    "\n",
    "    model.add(Dense(1))\n",
    "    model.add(Activation('sigmoid'))\n",
    "    model.compile(loss='binary_crossentropy', optimizer=params['optimizer'])\n",
    "\n",
    "    model.fit(X, y, epochs=params['nb_epochs'], batch_size=params['batch_size'], verbose = 0)\n",
    "\n",
    "    pred_auc = model.predict_proba(X_val, batch_size = 128, verbose = 0)\n",
    "    acc = roc_auc_score(y_val, pred_auc)\n",
    "    print(\"AUC: %.5f\" % (acc))\n",
    "\n",
    "    return {'loss': -acc, 'status': STATUS_OK}"
   ]
  },
  {
   "cell_type": "code",
   "execution_count": 83,
   "metadata": {},
   "outputs": [
    {
     "name": "stdout",
     "output_type": "stream",
     "text": [
      "AUC: 0.79507                                                                                                           \n",
      "AUC: 0.79812                                                                                                           \n",
      "AUC: 0.80833                                                                                                           \n",
      "AUC: 0.67081                                                                                                           \n",
      " 80%|███████████████████████████████████████▏         | 4/5 [00:08<00:02,  2.11s/trial, best loss: -0.8083270345175108]WARNING:tensorflow:5 out of the last 13 calls to <function Model.make_predict_function.<locals>.predict_function at 0x0000024B16728AF8> triggered tf.function retracing. Tracing is expensive and the excessive number of tracings could be due to (1) creating @tf.function repeatedly in a loop, (2) passing tensors with different shapes, (3) passing Python objects instead of tensors. For (1), please define your @tf.function outside of the loop. For (2), @tf.function has experimental_relax_shapes=True option that relaxes argument shapes that can avoid unnecessary retracing. For (3), please refer to https://www.tensorflow.org/guide/function#controlling_retracing and https://www.tensorflow.org/api_docs/python/tf/function for  more details.\n",
      "AUC: 0.77107                                                                                                           \n",
      "100%|█████████████████████████████████████████████████| 5/5 [00:10<00:00,  2.08s/trial, best loss: -0.8083270345175108]\n",
      "\n",
      "Best params found:\n",
      " {'batch_size': 2, 'dropout1': 8, 'dropout2': 11, 'dropout3': 3, 'num_layers': 1, 'optimizer': 1, 'units1': 24, 'units2': 14, 'units3': 26}\n"
     ]
    }
   ],
   "source": [
    "trials = Trials()\n",
    "best = fmin(f_nn, space, algo=tpe.suggest, max_evals=5, trials=trials)\n",
    "print('\\nBest params found:\\n', best)"
   ]
  },
  {
   "cell_type": "code",
   "execution_count": null,
   "metadata": {},
   "outputs": [],
   "source": []
  },
  {
   "cell_type": "code",
   "execution_count": null,
   "metadata": {},
   "outputs": [],
   "source": [
    "# Predicting the test set results\n",
    "y_pred = model.predict(x_test)\n",
    "y_pred = (y_pred > 0.4)"
   ]
  }
 ],
 "metadata": {
  "kernelspec": {
   "display_name": "Python 3",
   "language": "python",
   "name": "python3"
  },
  "language_info": {
   "codemirror_mode": {
    "name": "ipython",
    "version": 3
   },
   "file_extension": ".py",
   "mimetype": "text/x-python",
   "name": "python",
   "nbconvert_exporter": "python",
   "pygments_lexer": "ipython3",
   "version": "3.7.4"
  }
 },
 "nbformat": 4,
 "nbformat_minor": 2
}
